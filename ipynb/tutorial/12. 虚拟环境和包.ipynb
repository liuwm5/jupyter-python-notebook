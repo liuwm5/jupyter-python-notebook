{
 "cells": [
  {
   "cell_type": "markdown",
   "metadata": {},
   "source": [
    "# 12. 虚拟环境和包\n",
    "## 12.1. 概述\n",
    "Python应用程序通常会使用不在标准库内的软件包和模块。应用程序有时需要特定版本的库，因为应用程序可能需要修复特定的错误，或者可以使用库的过时版本的接口编写应用程序。\n",
    "\n",
    "这意味着一个Python安装可能无法满足每个应用程序的要求。如果应用程序A需要特定模块的1.0版本但应用程序B需要2.0版本，则需求存在冲突，安装版本1.0或2.0将导致某一个应用程序无法运行。\n",
    "\n",
    "这个问题的解决方案是创建一个 virtual environment，一个目录树，其中安装有特定Python版本，以及许多其他包。\n",
    "\n",
    "然后，不同的应用将可以使用不同的虚拟环境。 要解决先前需求相冲突的例子，应用程序 A 可以拥有自己的 安装了 1.0 版本的虚拟环境，而应用程序 B 则拥有安装了 2.0 版本的另一个虚拟环境。 如果应用程序 B 要求将某个库升级到 3.0 版本，也不会影响应用程序 A 的环境。\n",
    "\n",
    "## 12.2. 创建虚拟环境\n",
    "用于创建和管理虚拟环境的模块称为 venv。venv 通常会安装你可用的最新版本的 Python。如果您的系统上有多个版本的 Python，您可以通过运行 python3 或您想要的任何版本来选择特定的Python版本。\n",
    "\n",
    "要创建虚拟环境，请确定要放置它的目录，并将 venv 模块作为脚本运行目录路径:"
   ]
  },
  {
   "cell_type": "code",
   "execution_count": null,
   "metadata": {},
   "outputs": [],
   "source": [
    "python3 -m venv tutorial-env"
   ]
  },
  {
   "cell_type": "markdown",
   "metadata": {},
   "source": [
    "如果它不存在，这将创建 tutorial-env 目录，并在其中创建包含Python解释器，标准库和各种支持文件的副本的目录。\n",
    "\n",
    "创建虚拟环境后，您可以激活它。\n",
    "\n",
    "在Windows上，运行:"
   ]
  },
  {
   "cell_type": "code",
   "execution_count": null,
   "metadata": {},
   "outputs": [],
   "source": [
    "tutorial-env\\Scripts\\activate.bat"
   ]
  },
  {
   "cell_type": "markdown",
   "metadata": {},
   "source": [
    "在Unix或MacOS上，运行:\n",
    "\n"
   ]
  },
  {
   "cell_type": "code",
   "execution_count": null,
   "metadata": {},
   "outputs": [],
   "source": [
    "source tutorial-env/bin/activate"
   ]
  },
  {
   "cell_type": "markdown",
   "metadata": {},
   "source": [
    "（这个脚本是为bash shell编写的。如果你使用 csh 或 fish shell，你应该改用 activate.csh 或 activate.fish 脚本。）\n",
    "\n",
    "Activating the virtual environment will change your shell's prompt to show what virtual environment you're using, and modify the environment so that running python will get you that particular version and installation of Python. For example:"
   ]
  },
  {
   "cell_type": "code",
   "execution_count": null,
   "metadata": {},
   "outputs": [],
   "source": [
    "$ source ~/envs/tutorial-env/bin/activate\n",
    "(tutorial-env) $ python\n",
    "Python 3.5.1 (default, May  6 2016, 10:59:36)\n",
    "  ...\n",
    ">>> import sys\n",
    ">>> sys.path\n",
    "['', '/usr/local/lib/python35.zip', ...,\n",
    "'~/envs/tutorial-env/lib/python3.5/site-packages']\n",
    ">>>"
   ]
  },
  {
   "cell_type": "markdown",
   "metadata": {},
   "source": [
    "## 12.3. 使用pip管理包\n",
    "你可以使用一个名为 pip 的程序来安装、升级和移除软件包。默认情况下 pip 将从 Python Package Index <https://pypi.org> 安装软件包。你可以在浏览器中访问 Python Package Index 或是使用 pip 受限的搜索功能:"
   ]
  },
  {
   "cell_type": "code",
   "execution_count": null,
   "metadata": {},
   "outputs": [],
   "source": [
    "(tutorial-env) $ pip search astronomy\n",
    "skyfield               - Elegant astronomy for Python\n",
    "gary                   - Galactic astronomy and gravitational dynamics.\n",
    "novas                  - The United States Naval Observatory NOVAS astronomy library\n",
    "astroobs               - Provides astronomy ephemeris to plan telescope observations\n",
    "PyAstronomy            - A collection of astronomy related tools for Python.\n",
    "..."
   ]
  },
  {
   "cell_type": "markdown",
   "metadata": {},
   "source": [
    "pip 有许多子命令：“search”、“install”、“uninstall”、“freeze”等等。（请参阅 安装 Python 模块 指南以了解 pip 的完整文档。）\n",
    "\n",
    "您可以通过指定包的名称来安装最新版本的包："
   ]
  },
  {
   "cell_type": "code",
   "execution_count": null,
   "metadata": {},
   "outputs": [],
   "source": [
    "(tutorial-env) $ pip install novas\n",
    "Collecting novas\n",
    "  Downloading novas-3.1.1.3.tar.gz (136kB)\n",
    "Installing collected packages: novas\n",
    "  Running setup.py install for novas\n",
    "Successfully installed novas-3.1.1.3"
   ]
  },
  {
   "cell_type": "markdown",
   "metadata": {},
   "source": [
    "您还可以通过提供包名称后跟 == 和版本号来安装特定版本的包："
   ]
  },
  {
   "cell_type": "code",
   "execution_count": null,
   "metadata": {},
   "outputs": [],
   "source": [
    "(tutorial-env) $ pip install requests==2.6.0\n",
    "Collecting requests==2.6.0\n",
    "  Using cached requests-2.6.0-py2.py3-none-any.whl\n",
    "Installing collected packages: requests\n",
    "Successfully installed requests-2.6.0"
   ]
  },
  {
   "cell_type": "markdown",
   "metadata": {},
   "source": [
    "如果你重新运行这个命令，pip 会注意到已经安装了所请求的版本并且什么都不做。您可以提供不同的版本号来获取该版本，或者您可以运行 pip install --upgrade 将软件包升级到最新版本："
   ]
  },
  {
   "cell_type": "code",
   "execution_count": null,
   "metadata": {},
   "outputs": [],
   "source": [
    "(tutorial-env) $ pip install --upgrade requests\n",
    "Collecting requests\n",
    "Installing collected packages: requests\n",
    "  Found existing installation: requests 2.6.0\n",
    "    Uninstalling requests-2.6.0:\n",
    "      Successfully uninstalled requests-2.6.0\n",
    "Successfully installed requests-2.7.0"
   ]
  },
  {
   "cell_type": "markdown",
   "metadata": {},
   "source": [
    "pip uninstall 后跟一个或多个包名称将从虚拟环境中删除包。\n",
    "\n",
    "pip show 将显示有关特定包的信息："
   ]
  },
  {
   "cell_type": "code",
   "execution_count": null,
   "metadata": {},
   "outputs": [],
   "source": [
    "(tutorial-env) $ pip show requests\n",
    "---\n",
    "Metadata-Version: 2.0\n",
    "Name: requests\n",
    "Version: 2.7.0\n",
    "Summary: Python HTTP for Humans.\n",
    "Home-page: http://python-requests.org\n",
    "Author: Kenneth Reitz\n",
    "Author-email: me@kennethreitz.com\n",
    "License: Apache 2.0\n",
    "Location: /Users/akuchling/envs/tutorial-env/lib/python3.4/site-packages\n",
    "Requires:"
   ]
  },
  {
   "cell_type": "markdown",
   "metadata": {},
   "source": [
    "pip list 将显示虚拟环境中安装的所有软件包："
   ]
  },
  {
   "cell_type": "code",
   "execution_count": null,
   "metadata": {},
   "outputs": [],
   "source": [
    "(tutorial-env) $ pip list\n",
    "novas (3.1.1.3)\n",
    "numpy (1.9.2)\n",
    "pip (7.0.3)\n",
    "requests (2.7.0)\n",
    "setuptools (16.0)"
   ]
  },
  {
   "cell_type": "markdown",
   "metadata": {},
   "source": [
    "pip freeze` 将生成一个类似的已安装包列表，但输出使用 pip install 期望的格式。一个常见的约定是将此列表放在 requirements.txt 文件中："
   ]
  },
  {
   "cell_type": "code",
   "execution_count": null,
   "metadata": {},
   "outputs": [],
   "source": [
    "(tutorial-env) $ pip freeze > requirements.txt\n",
    "(tutorial-env) $ cat requirements.txt\n",
    "novas==3.1.1.3\n",
    "numpy==1.9.2\n",
    "requests==2.7.0"
   ]
  },
  {
   "cell_type": "markdown",
   "metadata": {},
   "source": [
    "然后可以将 requirements.txt 提交给版本控制并作为应用程序的一部分提供。然后用户可以使用 install -r 安装所有必需的包："
   ]
  },
  {
   "cell_type": "code",
   "execution_count": null,
   "metadata": {},
   "outputs": [],
   "source": [
    "(tutorial-env) $ pip install -r requirements.txt\n",
    "Collecting novas==3.1.1.3 (from -r requirements.txt (line 1))\n",
    "  ...\n",
    "Collecting numpy==1.9.2 (from -r requirements.txt (line 2))\n",
    "  ...\n",
    "Collecting requests==2.7.0 (from -r requirements.txt (line 3))\n",
    "  ...\n",
    "Installing collected packages: novas, numpy, requests\n",
    "  Running setup.py install for novas\n",
    "Successfully installed novas-3.1.1.3 numpy-1.9.2 requests-2.7.0"
   ]
  },
  {
   "cell_type": "markdown",
   "metadata": {},
   "source": [
    "pip 有更多选择。有关 pip 的完整文档，请参阅 [安装 Python 模块](https://docs.python.org/zh-cn/3/installing/index.html#installing-index) 指南。当您编写一个包并希望在 Python 包索引中使它可用时，请参考 [分发 Python 模块](https://docs.python.org/zh-cn/3/distributing/index.html#distributing-index) 指南。"
   ]
  }
 ],
 "metadata": {
  "kernelspec": {
   "display_name": "Python 3",
   "language": "python",
   "name": "python3"
  },
  "language_info": {
   "codemirror_mode": {
    "name": "ipython",
    "version": 3
   },
   "file_extension": ".py",
   "mimetype": "text/x-python",
   "name": "python",
   "nbconvert_exporter": "python",
   "pygments_lexer": "ipython3",
   "version": "3.7.3"
  }
 },
 "nbformat": 4,
 "nbformat_minor": 2
}
